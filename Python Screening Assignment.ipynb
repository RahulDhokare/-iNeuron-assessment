{
 "cells": [
  {
   "cell_type": "code",
   "execution_count": null,
   "id": "38e0a4f4",
   "metadata": {},
   "outputs": [],
   "source": [
    "1. Create a function in python to read the text file and replace specific content\n",
    "of the file.\n",
    "File name example.txt\n",
    "Origin file content This is a placement assignment\n",
    "Replace string Placement should be replaced by\n",
    "screening.\n",
    "Replaced file content This is a screening assignment"
   ]
  },
  {
   "cell_type": "code",
   "execution_count": 7,
   "id": "24ff35d4",
   "metadata": {},
   "outputs": [
    {
     "name": "stdout",
     "output_type": "stream",
     "text": [
      "Enter a word to be replace: placement\n",
      " Enter word to replaced: screening\n",
      "Text replaced\n"
     ]
    }
   ],
   "source": [
    "# creating a variable and storing the text\n",
    "# that we want to search\n",
    "\n",
    "search_text =input(\"Enter a word to be replace:\")\n",
    "\n",
    "# creating a variable and storing the text\n",
    "# that we want to add\n",
    "\n",
    "replace_text = input(\" Enter word to replaced:\")\n",
    "\n",
    "# Opening our text file in read only\n",
    "# mode using the open() function\n",
    "with open(r'example.txt', 'r') as file:\n",
    "\n",
    "\t# Reading the content of the file\n",
    "\t# using the read() function and storing\n",
    "\t# them in a new variable\n",
    "\tdata = file.read()\n",
    "\n",
    "\t# Searching and replacing the text\n",
    "\t# using the replace() function\n",
    "\tdata = data.replace(search_text, replace_text)\n",
    "\n",
    "# Opening our text file in write only\n",
    "# mode to write the replaced content\n",
    "with open(r'example.txt', 'w') as file:\n",
    "\n",
    "\t# Writing the replaced data in our\n",
    "\t# text file\n",
    "\tfile.write(data)\n",
    "   \n",
    "\n",
    "# Printing Text replaced\n",
    "print(\"Text replaced\")\n"
   ]
  },
  {
   "cell_type": "code",
   "execution_count": null,
   "id": "2ccf4f89",
   "metadata": {},
   "outputs": [],
   "source": [
    "2. Demonstrate use of abstract class, multiple inheritance and decorator in\n",
    "python using examples"
   ]
  },
  {
   "cell_type": "code",
   "execution_count": null,
   "id": "6e48e4ac",
   "metadata": {},
   "outputs": [],
   "source": [
    "abstract class:\n",
    "An abstract class/superclass can be considered as a blueprint for other classes. \n",
    "It allows you to create a set of methods that must be created within any child classes built from the abstract class.\n",
    "A class which contains one or more abstract methods is called an abstract class.\n"
   ]
  },
  {
   "cell_type": "code",
   "execution_count": 3,
   "id": "2646ca04",
   "metadata": {},
   "outputs": [
    {
     "name": "stdout",
     "output_type": "stream",
     "text": [
      "I have 3 sides\n",
      "I have 4 sides\n",
      "I have 5 sides\n",
      "I have 6 sides\n"
     ]
    }
   ],
   "source": [
    "#example\n",
    "\n",
    " \n",
    "from abc import ABC, abstractmethod\n",
    " \n",
    "class Polygon(ABC):\n",
    " \n",
    "    @abstractmethod\n",
    "    def noofsides(self):\n",
    "        pass\n",
    " \n",
    "class Triangle(Polygon):\n",
    " \n",
    "    # overriding abstract method\n",
    "    def noofsides(self):\n",
    "        print(\"I have 3 sides\")\n",
    " \n",
    "class Pentagon(Polygon):\n",
    " \n",
    "    # overriding abstract method\n",
    "    def noofsides(self):\n",
    "        print(\"I have 5 sides\")\n",
    " \n",
    "class Hexagon(Polygon):\n",
    " \n",
    "    # overriding abstract method\n",
    "    def noofsides(self):\n",
    "        print(\"I have 6 sides\")\n",
    " \n",
    "class Quadrilateral(Polygon):\n",
    " \n",
    "    # overriding abstract method\n",
    "    def noofsides(self):\n",
    "        print(\"I have 4 sides\")\n",
    "        \n",
    "# Driver code\n",
    "R = Triangle()\n",
    "R.noofsides()\n",
    " \n",
    "K = Quadrilateral()\n",
    "K.noofsides()\n",
    " \n",
    "R = Pentagon()\n",
    "R.noofsides()\n",
    " \n",
    "K = Hexagon()\n",
    "K.noofsides()\n",
    "        "
   ]
  },
  {
   "cell_type": "code",
   "execution_count": null,
   "id": "c8fbeeb5",
   "metadata": {},
   "outputs": [],
   "source": [
    "multiple inheritance:\n",
    "When a class is derived from more than one base class it is called multiple Inheritance.\n",
    "The derived class inherits all the features of the base case."
   ]
  },
  {
   "cell_type": "code",
   "execution_count": 6,
   "id": "c8fbcdef",
   "metadata": {},
   "outputs": [
    {
     "name": "stdout",
     "output_type": "stream",
     "text": [
      "In Class4\n",
      "In Class2\n",
      "In Class3\n",
      "In Class1\n"
     ]
    }
   ],
   "source": [
    "# Python Program to depict multiple inheritance\n",
    "\n",
    "\n",
    "class Class1:\n",
    "    def m(self):\n",
    "        print(\"In Class1\")\n",
    "        \n",
    "class Class2(Class1):\n",
    "    def m(self):\n",
    "        print(\"In Class2\")\n",
    "\n",
    "class Class3(Class1):\n",
    "    def m(self):\n",
    "        print(\"In Class3\")\n",
    "        \n",
    "class Class4(Class2, Class3):\n",
    "    def m(self):\n",
    "        print(\"In Class4\")\n",
    "        Class2.m(self)\n",
    "        Class3.m(self)\n",
    "        Class1.m(self)\n",
    "\n",
    "obj = Class4()\n",
    "obj.m()\n"
   ]
  },
  {
   "cell_type": "code",
   "execution_count": null,
   "id": "16606231",
   "metadata": {},
   "outputs": [],
   "source": [
    "Decorator: is a function which can take a function as argument and extend its functionality\n",
    "    and returns modified function with extended functionality."
   ]
  },
  {
   "cell_type": "code",
   "execution_count": 5,
   "id": "e384ed90",
   "metadata": {},
   "outputs": [
    {
     "name": "stdout",
     "output_type": "stream",
     "text": [
      "400\n"
     ]
    }
   ],
   "source": [
    "# decorator \n",
    "def decor1(func):\n",
    "    def inner():\n",
    "        x = func()\n",
    "        return x * x\n",
    "    return inner\n",
    "\n",
    "def decor(func):\n",
    "    def inner():\n",
    "        x = func()\n",
    "        return 2 * x\n",
    "    return inner\n",
    "\n",
    "@decor1\n",
    "@decor\n",
    "def num():\n",
    "    return 10\n",
    "\n",
    "print(num())\n"
   ]
  },
  {
   "cell_type": "code",
   "execution_count": null,
   "id": "7203a59c",
   "metadata": {},
   "outputs": [],
   "source": []
  }
 ],
 "metadata": {
  "kernelspec": {
   "display_name": "Python 3 (ipykernel)",
   "language": "python",
   "name": "python3"
  },
  "language_info": {
   "codemirror_mode": {
    "name": "ipython",
    "version": 3
   },
   "file_extension": ".py",
   "mimetype": "text/x-python",
   "name": "python",
   "nbconvert_exporter": "python",
   "pygments_lexer": "ipython3",
   "version": "3.9.7"
  }
 },
 "nbformat": 4,
 "nbformat_minor": 5
}
